{
 "cells": [
  {
   "cell_type": "markdown",
   "id": "49b34e5c-07f9-43ee-9cb2-b60b89d34d92",
   "metadata": {},
   "source": [
    "### Wind suitability based off of potential wind at varying hub heights and a capacity factor of 30 percent\n",
    "\n",
    "Data for potential wind capacity for 80m, 110m, and 140m hub heights for current technology assumptions downloaded from https://maps.nrel.gov/wind-prospector\n",
    "\n",
    "Metadata for potential resource capacity files:  https://edacarc20.unm.edu/arcgis/rest/services/nmenergytool/EDAC_Energy/FeatureServer/0\n",
    "\n"
   ]
  },
  {
   "cell_type": "code",
   "execution_count": 2,
   "id": "97f81b23-ced7-40b9-93ce-dd87c9b2e893",
   "metadata": {},
   "outputs": [],
   "source": [
    "import os\n",
    "import glob\n",
    "\n",
    "import rasterio\n",
    "import numpy as np\n",
    "import pandas as pd\n",
    "import geopandas as gpd\n"
   ]
  },
  {
   "cell_type": "code",
   "execution_count": 11,
   "id": "0aa46fc2-ec2e-4134-bb3c-35b0da4bba01",
   "metadata": {},
   "outputs": [],
   "source": [
    "# suitabilty data directory\n",
    "data_dir = '/Users/d3y010/projects/cerf/suitability/data'\n",
    "\n",
    "# template raster from CERF\n",
    "template_raster = os.path.join(data_dir, 'reference', 'cerf_landmask.tif')\n",
    "\n",
    "# exclusion data for wind dir\n",
    "exclusion_dir = os.path.join(data_dir, 'wind', 'exclusions')\n",
    "\n",
    "# directory where downloaded data was decompressed\n",
    "download_dir = os.path.join(data_dir, 'wind', 'nrel')\n",
    "\n",
    "# processed shapefile directory\n",
    "wind_shp_dir = os.path.join(data_dir, 'wind', 'shp')\n",
    "\n",
    "# directory to write potential capacity rasters to\n",
    "potential_dir = os.path.join(data_dir, 'wind', 'potential_suitability')\n",
    "\n",
    "# where to write the final suitability outputs to\n",
    "output_dir = os.path.join(data_dir, 'wind')\n"
   ]
  },
  {
   "cell_type": "code",
   "execution_count": 7,
   "id": "d5dc50c0-cc1d-40c9-8f3a-1b6ba827472f",
   "metadata": {},
   "outputs": [],
   "source": [
    "# get cerf CRS from template raster\n",
    "with rasterio.open(template_raster) as src:\n",
    "    target_crs = src.crs\n"
   ]
  },
  {
   "cell_type": "markdown",
   "id": "17d069ba-b40d-4718-bb10-e9d5fa54f9f8",
   "metadata": {},
   "source": [
    "### Extract desired data from downloaded shapefiles and save to new files"
   ]
  },
  {
   "cell_type": "code",
   "execution_count": 8,
   "id": "99da50ed-345d-4043-9525-617335b23beb",
   "metadata": {},
   "outputs": [
    {
     "name": "stdout",
     "output_type": "stream",
     "text": [
      "CPU times: user 27.8 s, sys: 615 ms, total: 28.4 s\n",
      "Wall time: 28.7 s\n"
     ]
    }
   ],
   "source": [
    "%%time\n",
    "\n",
    "# list of hub heights to process\n",
    "hub_height_list = ['080', '110', '140']\n",
    "\n",
    "for hub_height in hub_height_list:\n",
    "\n",
    "    # input shapefile\n",
    "    f = os.path.join(download_dir, f'pot_wind_cap_{hub_height}_current', f'pot_wind_cap_{hub_height}_current.shp')\n",
    "\n",
    "    # only keep necessary fields\n",
    "    gdf = gpd.read_file(f)[['area_km2', 'a30', 'geometry']].to_crs(target_crs)\n",
    "\n",
    "    # get polygons with at least 1 km2 of available development area at 30% capacity\n",
    "    gdx = gdf.loc[gdf['a30'] > 1].copy()\n",
    "\n",
    "    # assign suitability value\n",
    "    gdx['value'] = 0\n",
    "    \n",
    "    file_name = f'cerf_nrel_wind_development_potential_hubheight{hub_height}m_cf30.shp'\n",
    "    output_file = os.path.join(wind_shp_dir, file_name)\n",
    "    \n",
    "    # write output\n",
    "    gdx[['value', 'geometry']].to_file(output_file)\n"
   ]
  },
  {
   "cell_type": "markdown",
   "id": "f1052fe7-6e6c-4f65-8990-b900bf2d3f77",
   "metadata": {},
   "source": [
    "### Rasterize shapefiles for potential"
   ]
  },
  {
   "cell_type": "code",
   "execution_count": 10,
   "id": "82b5ea6e-55d3-45fa-a826-0188a42ca7f2",
   "metadata": {},
   "outputs": [
    {
     "name": "stdout",
     "output_type": "stream",
     "text": [
      "gdal_rasterize -l cerf_nrel_wind_development_potential_hubheight140m_cf30 -a value -tr 1000.0 1000.0 -init 1.0 -te -2405552.8355 -1389065.2005 2287447.1645 1609934.7995 -ot Int16 -of GTiff /Users/d3y010/projects/cerf/suitability/data/wind/shp/cerf_nrel_wind_development_potential_hubheight140m_cf30.shp /Users/d3y010/projects/cerf/suitability/data/wind/potential_suitability/cerf_nrel_wind_development_potential_hubheight140m_cf30.tif \n",
      "\n",
      "gdal_rasterize -l cerf_nrel_wind_development_potential_hubheight080m_cf30 -a value -tr 1000.0 1000.0 -init 1.0 -te -2405552.8355 -1389065.2005 2287447.1645 1609934.7995 -ot Int16 -of GTiff /Users/d3y010/projects/cerf/suitability/data/wind/shp/cerf_nrel_wind_development_potential_hubheight080m_cf30.shp /Users/d3y010/projects/cerf/suitability/data/wind/potential_suitability/cerf_nrel_wind_development_potential_hubheight080m_cf30.tif \n",
      "\n",
      "gdal_rasterize -l cerf_nrel_wind_development_potential_hubheight110m_cf30 -a value -tr 1000.0 1000.0 -init 1.0 -te -2405552.8355 -1389065.2005 2287447.1645 1609934.7995 -ot Int16 -of GTiff /Users/d3y010/projects/cerf/suitability/data/wind/shp/cerf_nrel_wind_development_potential_hubheight110m_cf30.shp /Users/d3y010/projects/cerf/suitability/data/wind/potential_suitability/cerf_nrel_wind_development_potential_hubheight110m_cf30.tif \n",
      "\n",
      "CPU times: user 3.53 ms, sys: 2.79 ms, total: 6.32 ms\n",
      "Wall time: 1.23 s\n"
     ]
    }
   ],
   "source": [
    "%%time \n",
    "\n",
    "shp_list = glob.glob(os.path.join(wind_shp_dir, 'cerf_nrel_wind_development_potential_hubheight*m_cf30.shp'))\n",
    "\n",
    "for i in shp_list:\n",
    "        \n",
    "    basename = os.path.basename(i)\n",
    "    base_noext = os.path.splitext(basename)[0]\n",
    "    \n",
    "    output_raster = os.path.join(potential_dir, f\"{base_noext}.tif\")\n",
    "\n",
    "    gdal_rasterize_cmd = f\"gdal_rasterize -l {base_noext} -a value -tr 1000.0 1000.0 -init 1.0 -te -2405552.8355 -1389065.2005 2287447.1645 1609934.7995 -ot Int16 -of GTiff {i} {output_raster}\"\n",
    "\n",
    "    print(gdal_rasterize_cmd, '\\n')\n",
    "    \n",
    "    os.system(gdal_rasterize_cmd)\n"
   ]
  },
  {
   "cell_type": "markdown",
   "id": "92394fe2-baaa-4d8e-b2eb-6b84408caeb0",
   "metadata": {},
   "source": [
    "### Apply exclusions"
   ]
  },
  {
   "cell_type": "code",
   "execution_count": 13,
   "id": "d8978bf1-7b78-4c14-9ab4-0d167c226c5b",
   "metadata": {},
   "outputs": [
    {
     "name": "stdout",
     "output_type": "stream",
     "text": [
      "CPU times: user 347 ms, sys: 49.9 ms, total: 397 ms\n",
      "Wall time: 766 ms\n"
     ]
    }
   ],
   "source": [
    "%%time \n",
    "\n",
    "# non-potential suitability data that applies to wind\n",
    "exclusion_files = [os.path.join(exclusion_dir, i) for i in os.listdir(exclusion_dir) if os.path.splitext(i)[-1] in ('.tif', '.img')]\n",
    "\n",
    "# combine exclusion layers into a single array\n",
    "for idx, i in enumerate(exclusion_files):\n",
    "    \n",
    "    with rasterio.open(i) as src:\n",
    "        \n",
    "        if idx == 0:\n",
    "            arr = src.read(1)\n",
    "            \n",
    "        else:\n",
    "            arr += src.read(1)\n"
   ]
  },
  {
   "cell_type": "code",
   "execution_count": 14,
   "id": "3f414cba-ecb3-401d-9d11-028ec9a561f5",
   "metadata": {},
   "outputs": [],
   "source": [
    "# apply to each potential layer\n",
    "potential_rasters = glob.glob(os.path.join(potential_dir, 'cerf_nrel_wind_development_potential_hubheight*m_cf30.tif'))\n",
    "\n",
    "for i in potential_rasters:\n",
    "\n",
    "    with rasterio.open(i) as src:\n",
    "\n",
    "        # update metadata datatype to int16\n",
    "        metadata = src.meta.copy()\n",
    "        metadata.update({'dtype': rasterio.int16})\n",
    "        \n",
    "        # get array of potential suitability\n",
    "        arx = src.read(1)\n",
    "        \n",
    "        # apply exclusions\n",
    "        arx += arr\n",
    "        \n",
    "        # reclassify to 0 (suitable), 1 (unsuitable)\n",
    "        arx = np.where(arx == 0, 0, 1)\n",
    "        \n",
    "        # write aggregate tech-specific suitability layer to file\n",
    "        hub_height_str = i.split('_')[-2]\n",
    "        final_raster = os.path.join(output_dir, f'cerf_wind_onshore_{hub_height_str}.tif')\n",
    "        \n",
    "        with rasterio.open(final_raster, 'w', **metadata) as dest:\n",
    "            dest.write(arx.astype(rasterio.int16), 1)\n"
   ]
  },
  {
   "cell_type": "code",
   "execution_count": null,
   "id": "45bbc0d2-92d4-4e7a-92ee-f4f431edeb9d",
   "metadata": {},
   "outputs": [],
   "source": []
  }
 ],
 "metadata": {
  "kernelspec": {
   "display_name": "py3.9.4_cerf",
   "language": "python",
   "name": "py3.9.4_cerf"
  },
  "language_info": {
   "codemirror_mode": {
    "name": "ipython",
    "version": 3
   },
   "file_extension": ".py",
   "mimetype": "text/x-python",
   "name": "python",
   "nbconvert_exporter": "python",
   "pygments_lexer": "ipython3",
   "version": "3.9.4"
  }
 },
 "nbformat": 4,
 "nbformat_minor": 5
}
