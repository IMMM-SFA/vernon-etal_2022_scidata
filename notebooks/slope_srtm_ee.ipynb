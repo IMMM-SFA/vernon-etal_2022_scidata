{
 "cells": [
  {
   "cell_type": "code",
   "execution_count": 1,
   "id": "85502b35-afe3-451b-9131-8f43421c480f",
   "metadata": {},
   "outputs": [],
   "source": [
    "import os\n",
    "\n",
    "import rasterio\n",
    "import numpy as np\n"
   ]
  },
  {
   "cell_type": "code",
   "execution_count": 2,
   "id": "116d72db-99b1-4fb6-8a00-6f1ecd69450e",
   "metadata": {},
   "outputs": [],
   "source": [
    "# directory where the earth engine result was downloaded to from drive\n",
    "data_dir = '/Users/d3y010/projects/cerf/data/srtm'\n",
    "\n",
    "# directory to store technology specific suitability layers in\n",
    "tech_dir = '/Users/d3y010/projects/cerf/suitability/data/technology_specific'\n",
    "\n",
    "# downloaded file\n",
    "srtm_epsg6380 = os.path.join(data_dir, 'SRTM90_V4_slope_percent_1km_epsg6350.tiff')\n",
    "\n",
    "# reprojected and masked file to CERF's CRS and extent\n",
    "srtm_albers = os.path.join(data_dir, 'SRTM90_V4_slope_percent_1km_albers.tif')\n",
    "\n",
    "# land mask raster; 0 (suitable), 1 (unsuitable)\n",
    "land_mask = '/Users/d3y010/projects/cerf/suitability/data/reference/cerf_landmask.tif'\n",
    "\n",
    "# exclusion layer for wind where >20 percent slope is unsuitable\n",
    "cerf_slope_20per = os.path.join(tech_dir, 'cerf_srtm_slope_20pct.tif')\n",
    "\n",
    "# exclusion layer for common where >12 percent slope is unsuitable\n",
    "cerf_slope_12per = os.path.join(tech_dir, 'cerf_srtm_slope_12pct.tif')\n",
    "\n",
    "cerf_slope_10per = os.path.join(tech_dir, 'cerf_srtm_slope_10pct.tif')\n",
    "cerf_slope_5per = os.path.join(tech_dir, 'cerf_srtm_slope_5pct.tif')\n"
   ]
  },
  {
   "cell_type": "markdown",
   "id": "d8b46c20-ccb7-4846-be90-52bfc3ff9782",
   "metadata": {},
   "source": [
    "### Generate the following slope raster from SRTM 90m data via Google Earth Engine"
   ]
  },
  {
   "cell_type": "markdown",
   "id": "eaec033e-0fbd-4fe3-bfbf-07bce6e9c3fd",
   "metadata": {},
   "source": [
    "```javascript\n",
    "\n",
    "// get sample area to extract|\n",
    "var geometry = \n",
    "    ee.Geometry.Polygon(\n",
    "        [[[-128.59843750000002, 50.17140850495461],\n",
    "          [-128.59843750000002, 23.55613021145419],\n",
    "          [-64.78984375000002, 23.55613021145419],\n",
    "          [-64.78984375000002, 50.17140850495461]]], null, false);\n",
    "\n",
    "// DEM\n",
    "var dataset = ee.Image('CGIAR/SRTM90_V4').clip(geometry);\n",
    "\n",
    "// extract elevation data\n",
    "var elevation = dataset.select('elevation');\n",
    "\n",
    "// calculate slope in degrees\n",
    "var slope = ee.Terrain.slope(elevation);\n",
    "\n",
    "// convert to percent slope\n",
    "var slope_percent = slope.divide(100).multiply(Math.PI).tan().multiply(100).rename('Percent');\n",
    "\n",
    "// reproject into NAD83 Albers in meters; CERF's standard ESRI:102003 is not available\n",
    "var percent_albers = slope_percent.reproject({\n",
    "  crs: 'EPSG:6350',\n",
    "  scale: 1000\n",
    "});\n",
    "\n",
    "// export the result to my drive\n",
    "Export.image.toDrive({\n",
    "  image: percent_albers,\n",
    "  description: 'SRTM90_V4_slope_percent_1km_epsg6350',\n",
    "  folder: 'earth_engine',\n",
    "  region: geometry,\n",
    "  scale: 1000,\n",
    "  crs: 'EPSG:6350'\n",
    "});\n",
    "```"
   ]
  },
  {
   "cell_type": "markdown",
   "id": "a8502d24-370f-4000-9655-1e376d4bbe4f",
   "metadata": {},
   "source": [
    "### Reproject to CERF's CRS and extent"
   ]
  },
  {
   "cell_type": "code",
   "execution_count": 3,
   "id": "ecd58921-bf8d-4df1-a730-ecee96c229df",
   "metadata": {},
   "outputs": [
    {
     "data": {
      "text/plain": [
       "0"
      ]
     },
     "execution_count": 3,
     "metadata": {},
     "output_type": "execute_result"
    }
   ],
   "source": [
    "# gdal warp command\n",
    "gdal_cmd = f'gdalwarp -s_srs EPSG:6350 -t_srs ESRI:102003 -tr 1000.0 1000.0 -r bilinear -te -2405552.8355 -1389065.2005 2287447.1645 1609934.7995 -te_srs ESRI:102003 -multi -of GTiff {srtm_epsg6380} {srtm_albers}'\n",
    "\n",
    "os.system(gdal_cmd)\n"
   ]
  },
  {
   "cell_type": "markdown",
   "id": "b69c3a4b-a85a-4453-b1d7-9f90bb96f08c",
   "metadata": {},
   "source": [
    "### Reclassify to less than or equal to 20 percent slope as 0 (suitable) and above 1 (unsuitable) "
   ]
  },
  {
   "cell_type": "code",
   "execution_count": 4,
   "id": "c52fdbb1-3713-45b2-b13f-287d6b5fefbb",
   "metadata": {},
   "outputs": [],
   "source": [
    "with rasterio.open(land_mask) as msk:\n",
    "    mask_arr = msk.read(1)\n",
    "    mask_arr = np.where(mask_arr == 0, np.nan, mask_arr)\n"
   ]
  },
  {
   "cell_type": "code",
   "execution_count": 23,
   "id": "34ba9b5f-9909-4a78-8adc-c56195826028",
   "metadata": {},
   "outputs": [],
   "source": [
    "\n",
    "# create 20 percent suitable raster\n",
    "with rasterio.open(srtm_albers) as src:\n",
    "    \n",
    "    # update metadata datatype to int16\n",
    "    metadata = src.meta.copy()\n",
    "    metadata.update({'dtype': rasterio.int16})\n",
    "    \n",
    "    arr = src.read(1)\n",
    "    \n",
    "    # make all greater than 20 percent unsuitable\n",
    "    arr = np.where(arr > 20, 1.0, 0.0)\n",
    "    \n",
    "    # apply land mask\n",
    "    arr *= mask_arr\n",
    "    \n",
    "    # convert nan to unsuitable\n",
    "    arr = np.where(np.isnan(arr), 1, arr)\n",
    "    \n",
    "    with rasterio.open(cerf_slope_20per, 'w', **metadata) as dest:\n",
    "        dest.write(arr.astype(rasterio.int16), 1)\n",
    "        \n",
    "\n",
    "# create 12 percent suitable raster\n",
    "with rasterio.open(srtm_albers) as src:\n",
    "    \n",
    "    # update metadata datatype to int16\n",
    "    metadata = src.meta.copy()\n",
    "    metadata.update({'dtype': rasterio.int16})\n",
    "    \n",
    "    arr = src.read(1)\n",
    "    \n",
    "    # make all greater than 20 percent unsuitable\n",
    "    arr = np.where(arr > 12, 1.0, 0.0)\n",
    "    \n",
    "    # apply land mask\n",
    "    arr *= mask_arr\n",
    "    \n",
    "    # convert nan to unsuitable\n",
    "    arr = np.where(np.isnan(arr), 1, arr)\n",
    "    \n",
    "    with rasterio.open(cerf_slope_12per, 'w', **metadata) as dest:\n",
    "        dest.write(arr.astype(rasterio.int16), 1)\n",
    "\n"
   ]
  },
  {
   "cell_type": "code",
   "execution_count": 5,
   "id": "613fd4ba-744d-4aab-b3e1-52c0d916c6bf",
   "metadata": {},
   "outputs": [],
   "source": [
    "# create 10 percent suitable raster\n",
    "with rasterio.open(srtm_albers) as src:\n",
    "    \n",
    "    # update metadata datatype to int16\n",
    "    metadata = src.meta.copy()\n",
    "    metadata.update({'dtype': rasterio.int16})\n",
    "    \n",
    "    arr = src.read(1)\n",
    "    \n",
    "    # make all greater than 10 percent unsuitable\n",
    "    arr = np.where(arr > 10, 1.0, 0.0)\n",
    "    \n",
    "    # apply land mask\n",
    "    arr *= mask_arr\n",
    "    \n",
    "    # convert nan to unsuitable\n",
    "    arr = np.where(np.isnan(arr), 1, arr)\n",
    "    \n",
    "    with rasterio.open(cerf_slope_10per, 'w', **metadata) as dest:\n",
    "        dest.write(arr.astype(rasterio.int16), 1)\n"
   ]
  },
  {
   "cell_type": "code",
   "execution_count": 6,
   "id": "40556f10-ada5-4d80-baac-4b28a4ee7763",
   "metadata": {},
   "outputs": [],
   "source": [
    "# create 5 percent suitable raster\n",
    "with rasterio.open(srtm_albers) as src:\n",
    "    \n",
    "    # update metadata datatype to int16\n",
    "    metadata = src.meta.copy()\n",
    "    metadata.update({'dtype': rasterio.int16})\n",
    "    \n",
    "    arr = src.read(1)\n",
    "    \n",
    "    # make all greater than 5 percent unsuitable\n",
    "    arr = np.where(arr > 5, 1.0, 0.0)\n",
    "    \n",
    "    # apply land mask\n",
    "    arr *= mask_arr\n",
    "    \n",
    "    # convert nan to unsuitable\n",
    "    arr = np.where(np.isnan(arr), 1, arr)\n",
    "    \n",
    "    with rasterio.open(cerf_slope_5per, 'w', **metadata) as dest:\n",
    "        dest.write(arr.astype(rasterio.int16), 1)\n",
    "        "
   ]
  },
  {
   "cell_type": "code",
   "execution_count": null,
   "id": "14e1e0b5-b6d9-431b-bdea-44bbe95c634b",
   "metadata": {},
   "outputs": [],
   "source": []
  }
 ],
 "metadata": {
  "kernelspec": {
   "display_name": "py3.9.4_cerf",
   "language": "python",
   "name": "py3.9.4_cerf"
  },
  "language_info": {
   "codemirror_mode": {
    "name": "ipython",
    "version": 3
   },
   "file_extension": ".py",
   "mimetype": "text/x-python",
   "name": "python",
   "nbconvert_exporter": "python",
   "pygments_lexer": "ipython3",
   "version": "3.9.4"
  }
 },
 "nbformat": 4,
 "nbformat_minor": 5
}
