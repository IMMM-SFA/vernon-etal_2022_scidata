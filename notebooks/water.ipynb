{
 "cells": [
  {
   "cell_type": "code",
   "execution_count": 3,
   "metadata": {},
   "outputs": [],
   "source": [
    "import os\n",
    "import numpy as np\n",
    "import pandas as pd\n",
    "\n",
    "\n",
    "root = '/Users/d3y010/projects/cerf/water'\n",
    "f = os.path.join(root, 'corrected_CRB_streamflow_1955_2014.csv')\n",
    "out_file = os.path.join(root, 'corrected_CRB_streamflow_2010.csv')\n",
    "\n",
    "start_yr = 1955\n",
    "end_yr = 2014\n",
    "step = 1\n",
    "yrs = range(start_yr, end_yr + step, step)\n",
    "\n",
    "columns = ['latitude', 'longitude']\n",
    "columns.extend(['x{}'.format(i) for i in yrs])\n",
    "\n",
    "df = pd.read_csv(f, names=columns)\n",
    "\n",
    "df[['latitude', 'longitude', 'x2010']].to_csv(out_file, index=False)\n",
    "\n"
   ]
  },
  {
   "cell_type": "code",
   "execution_count": null,
   "metadata": {},
   "outputs": [],
   "source": []
  }
 ],
 "metadata": {
  "kernelspec": {
   "display_name": "Python 3",
   "language": "python",
   "name": "python3"
  },
  "language_info": {
   "codemirror_mode": {
    "name": "ipython",
    "version": 3
   },
   "file_extension": ".py",
   "mimetype": "text/x-python",
   "name": "python",
   "nbconvert_exporter": "python",
   "pygments_lexer": "ipython3",
   "version": "3.6.5"
  }
 },
 "nbformat": 4,
 "nbformat_minor": 2
}
