{
 "cells": [
  {
   "cell_type": "markdown",
   "id": "d38c5baf-a4ba-46a5-90bb-be920ffa3c0a",
   "metadata": {},
   "source": [
    "### Convert EZMT pre-processed NHDv2 Plus data to available water per technology"
   ]
  },
  {
   "cell_type": "code",
   "execution_count": 2,
   "id": "2c41054c-d574-4b35-b17e-1c5ca916577c",
   "metadata": {},
   "outputs": [],
   "source": [
    "import os\n",
    "import glob\n",
    "\n",
    "import rasterio\n",
    "import numpy as np\n",
    "import pandas as pd\n",
    "import geopandas as gpd\n"
   ]
  },
  {
   "cell_type": "code",
   "execution_count": 3,
   "id": "5d541b84-f53a-477d-9868-5376170e186b",
   "metadata": {},
   "outputs": [],
   "source": [
    "data_dir = '/Users/d3y010/projects/cerf/data/ezmt/surface_water_flow_nhdplus_v2_erom_eispc_v2'\n",
    "\n",
    "water_shp_dir = '/Users/d3y010/projects/cerf/data/suitability/nhd2plus'\n",
    "\n",
    "output_dir = '/Users/d3y010/projects/cerf/data/suitability/GRIDCERF/Tech_Specific_Layers'\n",
    "\n",
    "template_raster = os.path.join(output_dir, 'cerf_railnodes5km_navwaters5km_conus.tif')\n",
    "\n",
    "f = os.path.join(data_dir, 'ez_gis.surface_water_flow_nhdplus_v2_erom_eispc_v2.shp')\n"
   ]
  },
  {
   "cell_type": "code",
   "execution_count": 3,
   "id": "f54f684e-67da-466b-b5f7-2ba22626c2e4",
   "metadata": {},
   "outputs": [],
   "source": [
    "# get cerf CRS from template raster\n",
    "with rasterio.open(template_raster) as src:\n",
    "    target_crs = src.crs\n",
    "    "
   ]
  },
  {
   "cell_type": "code",
   "execution_count": 9,
   "id": "a3bdc87e-d0d2-489d-8bde-9ea2990a360f",
   "metadata": {},
   "outputs": [
    {
     "name": "stdout",
     "output_type": "stream",
     "text": [
      "CPU times: user 51.5 s, sys: 1.42 s, total: 52.9 s\n",
      "Wall time: 53 s\n"
     ]
    },
    {
     "data": {
      "text/plain": [
       "count    346016.000000\n",
       "mean       1763.519917\n",
       "std       13989.819998\n",
       "min          28.800465\n",
       "25%          54.261967\n",
       "50%         129.799854\n",
       "75%         478.966720\n",
       "max      484351.359744\n",
       "Name: mgd, dtype: float64"
      ]
     },
     "execution_count": 9,
     "metadata": {},
     "output_type": "execute_result"
    }
   ],
   "source": [
    "%%time \n",
    "\n",
    "# only keep gallons per minute flow and geometry and reproject\n",
    "gdf = gpd.read_file(f)[['q_gpm', 'geometry']].to_crs(target_crs)\n",
    "\n",
    "# convert to millions gallons per day\n",
    "gdf['mgd'] = (gdf['q_gpm'] / 1000000) * 60 * 24\n",
    "\n",
    "# drop gpm field\n",
    "gdf.drop(columns=['q_gpm'], inplace=True)\n",
    "\n",
    "# set raster value\n",
    "gdf['value'] = 0\n",
    "\n",
    "gdf.mgd.describe()\n"
   ]
  },
  {
   "cell_type": "markdown",
   "id": "635441b9-61e6-405f-a11a-5dfc061c35ce",
   "metadata": {},
   "source": [
    "### CERF bins for minimum mean annual flow requirements"
   ]
  },
  {
   "cell_type": "code",
   "execution_count": 5,
   "id": "ca6e471d-c95d-4cbe-8364-d5de6ff85e81",
   "metadata": {},
   "outputs": [],
   "source": [
    "bins = {'cerf_nhd2plus_surfaceflow_greaterthan145mgd_buffer20km': 145,\n",
    "        'cerf_nhd2plus_surfaceflow_greaterthan120mgd_buffer20km': 120,\n",
    "        'cerf_nhd2plus_surfaceflow_greaterthan110mgd_buffer20km': 110,\n",
    "        'cerf_nhd2plus_surfaceflow_greaterthan95mgd_buffer20km': 95,\n",
    "        'cerf_nhd2plus_surfaceflow_greaterthan75mgd_buffer20km': 75,\n",
    "        'cerf_nhd2plus_surfaceflow_greaterthan70mgd_buffer20km': 70,\n",
    "        'cerf_nhd2plus_surfaceflow_greaterthan55mgd_buffer20km': 55,\n",
    "        'cerf_nhd2plus_surfaceflow_greaterthan40mgd_buffer20km': 40,\n",
    "        'cerf_nhd2plus_surfaceflow_greaterthan35mgd_buffer20km': 35,\n",
    "        'cerf_nhd2plus_surfaceflow_greaterthan25mgd_buffer20km': 25,\n",
    "        'cerf_nhd2plus_surfaceflow_greaterthan10mgd_buffer20km': 10,\n",
    "        'cerf_nhd2plus_surfaceflow_greaterthan2mgd_buffer20km': 2}\n"
   ]
  },
  {
   "cell_type": "markdown",
   "id": "59d5e48d-28a7-44c6-841d-8b2b5f899a5a",
   "metadata": {},
   "source": [
    "### Create a buffered shapefile of flowlines matching the flow requirement"
   ]
  },
  {
   "cell_type": "code",
   "execution_count": 10,
   "id": "5c06be41-df19-489e-aeb1-f00c67472296",
   "metadata": {},
   "outputs": [
    {
     "name": "stdout",
     "output_type": "stream",
     "text": [
      "cerf_nhd2plus_surfaceflow_greaterthan145mgd_buffer20km\n",
      "cerf_nhd2plus_surfaceflow_greaterthan120mgd_buffer20km\n",
      "cerf_nhd2plus_surfaceflow_greaterthan110mgd_buffer20km\n",
      "cerf_nhd2plus_surfaceflow_greaterthan95mgd_buffer20km\n",
      "cerf_nhd2plus_surfaceflow_greaterthan75mgd_buffer20km\n",
      "cerf_nhd2plus_surfaceflow_greaterthan70mgd_buffer20km\n",
      "cerf_nhd2plus_surfaceflow_greaterthan55mgd_buffer20km\n",
      "cerf_nhd2plus_surfaceflow_greaterthan40mgd_buffer20km\n",
      "cerf_nhd2plus_surfaceflow_greaterthan35mgd_buffer20km\n",
      "cerf_nhd2plus_surfaceflow_greaterthan25mgd_buffer20km\n",
      "cerf_nhd2plus_surfaceflow_greaterthan10mgd_buffer20km\n",
      "cerf_nhd2plus_surfaceflow_greaterthan2mgd_buffer20km\n",
      "CPU times: user 26min 5s, sys: 29.1 s, total: 26min 35s\n",
      "Wall time: 26min 41s\n"
     ]
    }
   ],
   "source": [
    "%%time\n",
    "\n",
    "for i in bins.keys():\n",
    "    \n",
    "    print(i)\n",
    "    \n",
    "    # extract the flowlines that support the minimum flow requirement\n",
    "    gdx = gdf.loc[gdf['mgd'] > bins[i]].copy()\n",
    "\n",
    "    # buffer by 20 km (20000 meters)\n",
    "    gdx['geometry'] = gdx.buffer(20000)\n",
    "    \n",
    "    output_shp = os.path.join(water_shp_dir, f\"{i}.shp\")\n",
    "    \n",
    "    gdx[['value', 'geometry']].to_file(output_shp)\n",
    "\n"
   ]
  },
  {
   "cell_type": "markdown",
   "id": "42f47018-4263-48f3-a719-e73311d2e694",
   "metadata": {},
   "source": [
    "### Rasterize each shapefile into CERF's spatial requirements"
   ]
  },
  {
   "cell_type": "code",
   "execution_count": 4,
   "id": "57d176c7-70e1-44a3-a17c-ca39986487ca",
   "metadata": {},
   "outputs": [
    {
     "name": "stdout",
     "output_type": "stream",
     "text": [
      "gdal_rasterize -l cerf_nhd2plus_surfaceflow_greaterthan25mgd_buffer20km -a value -tr 1000.0 1000.0 -init 1.0 -te -2405552.8355 -1389065.2005 2287447.1645 1609934.7995 -ot Int16 -of GTiff /Users/d3y010/projects/cerf/data/suitability/nhd2plus/cerf_nhd2plus_surfaceflow_greaterthan25mgd_buffer20km.shp /Users/d3y010/projects/cerf/data/suitability/GRIDCERF/Tech_Specific_Layers/cerf_nhd2plus_surfaceflow_greaterthan25mgd_buffer20km.tif\n",
      "gdal_rasterize -l cerf_nhd2plus_surfaceflow_greaterthan110mgd_buffer20km -a value -tr 1000.0 1000.0 -init 1.0 -te -2405552.8355 -1389065.2005 2287447.1645 1609934.7995 -ot Int16 -of GTiff /Users/d3y010/projects/cerf/data/suitability/nhd2plus/cerf_nhd2plus_surfaceflow_greaterthan110mgd_buffer20km.shp /Users/d3y010/projects/cerf/data/suitability/GRIDCERF/Tech_Specific_Layers/cerf_nhd2plus_surfaceflow_greaterthan110mgd_buffer20km.tif\n",
      "gdal_rasterize -l cerf_nhd2plus_surfaceflow_greaterthan120mgd_buffer20km -a value -tr 1000.0 1000.0 -init 1.0 -te -2405552.8355 -1389065.2005 2287447.1645 1609934.7995 -ot Int16 -of GTiff /Users/d3y010/projects/cerf/data/suitability/nhd2plus/cerf_nhd2plus_surfaceflow_greaterthan120mgd_buffer20km.shp /Users/d3y010/projects/cerf/data/suitability/GRIDCERF/Tech_Specific_Layers/cerf_nhd2plus_surfaceflow_greaterthan120mgd_buffer20km.tif\n",
      "gdal_rasterize -l cerf_nhd2plus_surfaceflow_greaterthan10mgd_buffer20km -a value -tr 1000.0 1000.0 -init 1.0 -te -2405552.8355 -1389065.2005 2287447.1645 1609934.7995 -ot Int16 -of GTiff /Users/d3y010/projects/cerf/data/suitability/nhd2plus/cerf_nhd2plus_surfaceflow_greaterthan10mgd_buffer20km.shp /Users/d3y010/projects/cerf/data/suitability/GRIDCERF/Tech_Specific_Layers/cerf_nhd2plus_surfaceflow_greaterthan10mgd_buffer20km.tif\n",
      "gdal_rasterize -l cerf_nhd2plus_surfaceflow_greaterthan145mgd_buffer20km -a value -tr 1000.0 1000.0 -init 1.0 -te -2405552.8355 -1389065.2005 2287447.1645 1609934.7995 -ot Int16 -of GTiff /Users/d3y010/projects/cerf/data/suitability/nhd2plus/cerf_nhd2plus_surfaceflow_greaterthan145mgd_buffer20km.shp /Users/d3y010/projects/cerf/data/suitability/GRIDCERF/Tech_Specific_Layers/cerf_nhd2plus_surfaceflow_greaterthan145mgd_buffer20km.tif\n",
      "gdal_rasterize -l cerf_nhd2plus_surfaceflow_greaterthan70mgd_buffer20km -a value -tr 1000.0 1000.0 -init 1.0 -te -2405552.8355 -1389065.2005 2287447.1645 1609934.7995 -ot Int16 -of GTiff /Users/d3y010/projects/cerf/data/suitability/nhd2plus/cerf_nhd2plus_surfaceflow_greaterthan70mgd_buffer20km.shp /Users/d3y010/projects/cerf/data/suitability/GRIDCERF/Tech_Specific_Layers/cerf_nhd2plus_surfaceflow_greaterthan70mgd_buffer20km.tif\n",
      "gdal_rasterize -l cerf_nhd2plus_surfaceflow_greaterthan75mgd_buffer20km -a value -tr 1000.0 1000.0 -init 1.0 -te -2405552.8355 -1389065.2005 2287447.1645 1609934.7995 -ot Int16 -of GTiff /Users/d3y010/projects/cerf/data/suitability/nhd2plus/cerf_nhd2plus_surfaceflow_greaterthan75mgd_buffer20km.shp /Users/d3y010/projects/cerf/data/suitability/GRIDCERF/Tech_Specific_Layers/cerf_nhd2plus_surfaceflow_greaterthan75mgd_buffer20km.tif\n",
      "gdal_rasterize -l cerf_nhd2plus_surfaceflow_greaterthan95mgd_buffer20km -a value -tr 1000.0 1000.0 -init 1.0 -te -2405552.8355 -1389065.2005 2287447.1645 1609934.7995 -ot Int16 -of GTiff /Users/d3y010/projects/cerf/data/suitability/nhd2plus/cerf_nhd2plus_surfaceflow_greaterthan95mgd_buffer20km.shp /Users/d3y010/projects/cerf/data/suitability/GRIDCERF/Tech_Specific_Layers/cerf_nhd2plus_surfaceflow_greaterthan95mgd_buffer20km.tif\n",
      "gdal_rasterize -l cerf_nhd2plus_surfaceflow_greaterthan40mgd_buffer20km -a value -tr 1000.0 1000.0 -init 1.0 -te -2405552.8355 -1389065.2005 2287447.1645 1609934.7995 -ot Int16 -of GTiff /Users/d3y010/projects/cerf/data/suitability/nhd2plus/cerf_nhd2plus_surfaceflow_greaterthan40mgd_buffer20km.shp /Users/d3y010/projects/cerf/data/suitability/GRIDCERF/Tech_Specific_Layers/cerf_nhd2plus_surfaceflow_greaterthan40mgd_buffer20km.tif\n",
      "gdal_rasterize -l cerf_nhd2plus_surfaceflow_greaterthan55mgd_buffer20km -a value -tr 1000.0 1000.0 -init 1.0 -te -2405552.8355 -1389065.2005 2287447.1645 1609934.7995 -ot Int16 -of GTiff /Users/d3y010/projects/cerf/data/suitability/nhd2plus/cerf_nhd2plus_surfaceflow_greaterthan55mgd_buffer20km.shp /Users/d3y010/projects/cerf/data/suitability/GRIDCERF/Tech_Specific_Layers/cerf_nhd2plus_surfaceflow_greaterthan55mgd_buffer20km.tif\n",
      "gdal_rasterize -l cerf_nhd2plus_surfaceflow_greaterthan2mgd_buffer20km -a value -tr 1000.0 1000.0 -init 1.0 -te -2405552.8355 -1389065.2005 2287447.1645 1609934.7995 -ot Int16 -of GTiff /Users/d3y010/projects/cerf/data/suitability/nhd2plus/cerf_nhd2plus_surfaceflow_greaterthan2mgd_buffer20km.shp /Users/d3y010/projects/cerf/data/suitability/GRIDCERF/Tech_Specific_Layers/cerf_nhd2plus_surfaceflow_greaterthan2mgd_buffer20km.tif\n",
      "gdal_rasterize -l cerf_nhd2plus_surfaceflow_greaterthan35mgd_buffer20km -a value -tr 1000.0 1000.0 -init 1.0 -te -2405552.8355 -1389065.2005 2287447.1645 1609934.7995 -ot Int16 -of GTiff /Users/d3y010/projects/cerf/data/suitability/nhd2plus/cerf_nhd2plus_surfaceflow_greaterthan35mgd_buffer20km.shp /Users/d3y010/projects/cerf/data/suitability/GRIDCERF/Tech_Specific_Layers/cerf_nhd2plus_surfaceflow_greaterthan35mgd_buffer20km.tif\n",
      "CPU times: user 10.2 ms, sys: 7.01 ms, total: 17.2 ms\n",
      "Wall time: 43.5 s\n"
     ]
    }
   ],
   "source": [
    "%%time \n",
    "\n",
    "shp_list = glob.glob(os.path.join(water_shp_dir, 'cerf_nhd2plus_surfaceflow_greaterthan*mgd_buffer20km.shp'))\n",
    "\n",
    "for i in shp_list:\n",
    "        \n",
    "    basename = os.path.basename(i)\n",
    "    base_noext = os.path.splitext(basename)[0]\n",
    "    \n",
    "    output_raster = os.path.join(output_dir, f\"{base_noext}.tif\")\n",
    "\n",
    "    gdal_rasterize_cmd = f\"gdal_rasterize -l {base_noext} -a value -tr 1000.0 1000.0 -init 1.0 -te -2405552.8355 -1389065.2005 2287447.1645 1609934.7995 -ot Int16 -of GTiff {i} {output_raster}\"\n",
    "\n",
    "    print(gdal_rasterize_cmd)\n",
    "    \n",
    "    os.system(gdal_rasterize_cmd)\n"
   ]
  },
  {
   "cell_type": "code",
   "execution_count": null,
   "id": "c1358114-f7b8-467e-bcdd-6f9f8973dc70",
   "metadata": {},
   "outputs": [],
   "source": []
  }
 ],
 "metadata": {
  "kernelspec": {
   "display_name": "py3.9.4_cerf",
   "language": "python",
   "name": "py3.9.4_cerf"
  },
  "language_info": {
   "codemirror_mode": {
    "name": "ipython",
    "version": 3
   },
   "file_extension": ".py",
   "mimetype": "text/x-python",
   "name": "python",
   "nbconvert_exporter": "python",
   "pygments_lexer": "ipython3",
   "version": "3.9.4"
  }
 },
 "nbformat": 4,
 "nbformat_minor": 5
}
