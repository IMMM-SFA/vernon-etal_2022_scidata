{
 "cells": [
  {
   "cell_type": "code",
   "execution_count": 61,
   "id": "cbeb5d94-2540-43d8-bd67-65f392b4a62a",
   "metadata": {},
   "outputs": [],
   "source": [
    "import os\n",
    "import glob\n",
    "\n",
    "import pandas as pd\n"
   ]
  },
  {
   "cell_type": "code",
   "execution_count": 62,
   "id": "77d22948-764e-45db-ab72-06f1b6101f32",
   "metadata": {},
   "outputs": [],
   "source": [
    "data_dir = \"/Users/d3y010/projects/cerf/suitability/data\"\n",
    "\n",
    "common_dir = os.path.join(data_dir, \"common\")\n",
    "tech_dir = os.path.join(data_dir, \"technology_specific\")\n",
    "reference_dir = os.path.join(data_dir, \"reference\")\n",
    "\n",
    "# a file of technologies and their levels with the raster name\n",
    "cerf_technologies_file = os.path.join(reference_dir, \"cerf_technologies.txt\")\n"
   ]
  },
  {
   "cell_type": "code",
   "execution_count": 63,
   "id": "66fe1314-730b-445c-ba4c-c710baed879d",
   "metadata": {},
   "outputs": [
    {
     "name": "stdout",
     "output_type": "stream",
     "text": [
      "There are 56 technologies.\n"
     ]
    }
   ],
   "source": [
    "techs_df = pd.read_csv(cerf_technologies_file)\n",
    "\n",
    "n_techs = techs_df.shape[0]\n",
    "\n",
    "print(f\"There are {n_techs} technologies.\")\n"
   ]
  },
  {
   "cell_type": "code",
   "execution_count": 64,
   "id": "de2b0e7f-9b64-4c91-a49f-2c4b1314fbc0",
   "metadata": {},
   "outputs": [
    {
     "name": "stdout",
     "output_type": "stream",
     "text": [
      "There are 26 common layers.\n"
     ]
    }
   ],
   "source": [
    "common_files = glob.glob(os.path.join(common_dir, \"*.tif\"))\n",
    "\n",
    "n_common = len(common_files)\n",
    "\n",
    "print(f\"There are {n_common} common layers.\")\n"
   ]
  },
  {
   "cell_type": "code",
   "execution_count": 65,
   "id": "6ad2fb82-e074-4aeb-864a-791d23014c19",
   "metadata": {},
   "outputs": [
    {
     "name": "stdout",
     "output_type": "stream",
     "text": [
      "There are 187 technology-specific layers.\n"
     ]
    }
   ],
   "source": [
    "tech_files = glob.glob(os.path.join(tech_dir, \"*.tif\"))\n",
    "\n",
    "n_tech_specific = len(tech_files)\n",
    "\n",
    "print(f\"There are {n_tech_specific} technology-specific layers.\")\n"
   ]
  },
  {
   "cell_type": "code",
   "execution_count": 66,
   "id": "df72f397-1a31-4447-bd4e-70ad1fdbb336",
   "metadata": {},
   "outputs": [
    {
     "name": "stdout",
     "output_type": "stream",
     "text": [
      "There are 213 total suitability layers for use in technology-specific configuration.\n"
     ]
    }
   ],
   "source": [
    "n_layers = n_common + n_tech_specific\n",
    "\n",
    "print(f\"There are {n_layers} total suitability layers for use in technology-specific configuration.\")\n"
   ]
  },
  {
   "cell_type": "code",
   "execution_count": 67,
   "id": "c6dfaa52-aa15-492d-a27c-720757eead6a",
   "metadata": {},
   "outputs": [
    {
     "name": "stdout",
     "output_type": "stream",
     "text": [
      "There are 269 total package layers.\n"
     ]
    }
   ],
   "source": [
    "n_package_layers = n_layers + n_techs\n",
    "\n",
    "print(f\"There are {n_package_layers} total package layers.\")\n"
   ]
  },
  {
   "cell_type": "code",
   "execution_count": null,
   "id": "c6ef32cf-f96c-451a-9825-076e3a9b418b",
   "metadata": {},
   "outputs": [],
   "source": []
  }
 ],
 "metadata": {
  "kernelspec": {
   "display_name": "py3.9.4_ml",
   "language": "python",
   "name": "py3.9.4_ml"
  },
  "language_info": {
   "codemirror_mode": {
    "name": "ipython",
    "version": 3
   },
   "file_extension": ".py",
   "mimetype": "text/x-python",
   "name": "python",
   "nbconvert_exporter": "python",
   "pygments_lexer": "ipython3",
   "version": "3.9.4"
  }
 },
 "nbformat": 4,
 "nbformat_minor": 5
}
