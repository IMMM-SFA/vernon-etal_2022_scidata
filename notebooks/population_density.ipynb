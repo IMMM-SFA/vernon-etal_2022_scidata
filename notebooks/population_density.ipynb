{
 "cells": [
  {
   "cell_type": "code",
   "execution_count": 1,
   "id": "3f34b274-524b-4f49-b510-a6014a7e0b2a",
   "metadata": {},
   "outputs": [],
   "source": [
    "import numpy as np\n",
    "\n",
    "import matplotlib.pyplot as plt\n",
    "\n",
    "import rasterio\n",
    "from rasterio.plot import show\n",
    "\n",
    "\n",
    "from sklearn.datasets import fetch_species_distributions\n",
    "\n",
    "from sklearn.neighbors import KernelDensity\n",
    "\n",
    "from scipy import ndimage\n",
    "\n",
    "import subprocess"
   ]
  },
  {
   "cell_type": "code",
   "execution_count": 5,
   "id": "3fbf5a04-46e2-442b-a059-56e2e762eeb8",
   "metadata": {},
   "outputs": [],
   "source": [
    "def construct_grids(batch):\n",
    "    \"\"\"Construct the map grid from the batch object\n",
    "\n",
    "    Parameters\n",
    "    ----------\n",
    "    batch : Batch object\n",
    "        The object returned by :func:`fetch_species_distributions`\n",
    "\n",
    "    Returns\n",
    "    -------\n",
    "    (xgrid, ygrid) : 1-D arrays\n",
    "        The grid corresponding to the values in batch.coverages\n",
    "    \"\"\"\n",
    "    # x,y coordinates for corner cells\n",
    "    xmin = batch.x_left_lower_corner + batch.grid_size\n",
    "    xmax = xmin + (batch.Nx * batch.grid_size)\n",
    "    ymin = batch.y_left_lower_corner + batch.grid_size\n",
    "    ymax = ymin + (batch.Ny * batch.grid_size)\n",
    "\n",
    "    # x coordinates of the grid cells\n",
    "    xgrid = np.arange(xmin, xmax, batch.grid_size)\n",
    "    # y coordinates of the grid cells\n",
    "    ygrid = np.arange(ymin, ymax, batch.grid_size)\n",
    "\n",
    "    return (xgrid, ygrid)\n"
   ]
  },
  {
   "cell_type": "code",
   "execution_count": null,
   "id": "089f9e96-4f06-4c0b-971c-aaa0d4b39d26",
   "metadata": {},
   "outputs": [],
   "source": []
  },
  {
   "cell_type": "code",
   "execution_count": null,
   "id": "dcc5d770-6be3-4413-8a9b-5ec4e0b3576f",
   "metadata": {},
   "outputs": [],
   "source": []
  },
  {
   "cell_type": "code",
   "execution_count": 48,
   "id": "a6ba486b-6682-42da-9555-e233a9ea5d2a",
   "metadata": {},
   "outputs": [],
   "source": [
    "# Get matrices/arrays of species IDs and locations\n",
    "data = fetch_species_distributions()\n",
    "\n",
    "species_names = [\"Bradypus Variegatus\", \"Microryzomys Minutus\"]\n",
    "\n",
    "Xtrain = np.vstack([data[\"train\"][\"dd lat\"], data[\"train\"][\"dd long\"]]).T\n",
    "ytrain = np.array(\n",
    "    [d.decode(\"ascii\").startswith(\"micro\") for d in data[\"train\"][\"species\"]],\n",
    "    dtype=\"int\",\n",
    ")\n",
    "\n",
    "Xtrain *= np.pi / 180.0  # Convert lat/long to radians\n"
   ]
  },
  {
   "cell_type": "code",
   "execution_count": 49,
   "id": "72d6b6dc-8dba-4879-9b4d-0030c5dd14b5",
   "metadata": {},
   "outputs": [
    {
     "data": {
      "text/plain": [
       "array([[-0.3115413 , -1.129228  ],\n",
       "       [-0.28506985, -1.1839144 ],\n",
       "       [-0.28448865, -1.1847872 ],\n",
       "       ...,\n",
       "       [-0.00523599, -1.3695022 ],\n",
       "       [ 0.01047198, -1.3581576 ],\n",
       "       [ 0.08668474, -1.3156868 ]], dtype=float32)"
      ]
     },
     "execution_count": 49,
     "metadata": {},
     "output_type": "execute_result"
    }
   ],
   "source": [
    "Xtrain"
   ]
  },
  {
   "cell_type": "code",
   "execution_count": null,
   "id": "53b68872-937c-4e0c-9c47-a1cc77c4c796",
   "metadata": {},
   "outputs": [],
   "source": []
  },
  {
   "cell_type": "code",
   "execution_count": 50,
   "id": "d0f215e7-0ed3-470c-9647-4cbe6a28aca0",
   "metadata": {},
   "outputs": [],
   "source": [
    "# Set up the data grid for the contour plot\n",
    "xgrid, ygrid = construct_grids(data)\n",
    "X, Y = np.meshgrid(xgrid[::5], ygrid[::5][::-1])\n",
    "land_reference = data.coverages[6][::5, ::5]\n",
    "land_mask = (land_reference > -9999).ravel()\n"
   ]
  },
  {
   "cell_type": "code",
   "execution_count": 51,
   "id": "d2128af6-c063-49dc-8acd-de8615cd6c04",
   "metadata": {},
   "outputs": [],
   "source": [
    "xy = np.vstack([Y.ravel(), X.ravel()]).T\n",
    "xy = xy[land_mask]\n",
    "xy *= np.pi / 180.0\n",
    "\n"
   ]
  },
  {
   "cell_type": "code",
   "execution_count": 56,
   "id": "34b6d00d-af98-4d4a-a3dc-310da29fef32",
   "metadata": {},
   "outputs": [
    {
     "data": {
      "text/plain": [
       "(1624, 2)"
      ]
     },
     "execution_count": 56,
     "metadata": {},
     "output_type": "execute_result"
    }
   ],
   "source": [
    "Xtrain.shape"
   ]
  },
  {
   "cell_type": "code",
   "execution_count": 57,
   "id": "22dfa885-85a3-4ca6-8d89-e1752cc3b1ef",
   "metadata": {},
   "outputs": [
    {
     "data": {
      "text/plain": [
       "(1624,)"
      ]
     },
     "execution_count": 57,
     "metadata": {},
     "output_type": "execute_result"
    }
   ],
   "source": [
    "ytrain.shape"
   ]
  },
  {
   "cell_type": "code",
   "execution_count": 59,
   "id": "5a542822-d103-450c-a9d4-6b12b55f2aaa",
   "metadata": {},
   "outputs": [
    {
     "data": {
      "text/plain": [
       "array([[ 0.41015237, -1.35699349],\n",
       "       [ 0.41015237, -1.35263017],\n",
       "       [ 0.41015237, -1.33081355],\n",
       "       ...,\n",
       "       [-0.97738438, -1.17809725],\n",
       "       [-0.97738438, -1.17373392],\n",
       "       [-0.97738438, -1.1693706 ]])"
      ]
     },
     "execution_count": 59,
     "metadata": {},
     "output_type": "execute_result"
    }
   ],
   "source": [
    "xy"
   ]
  },
  {
   "cell_type": "code",
   "execution_count": 54,
   "id": "ff022725-fb44-4b1b-bf8d-eaf28113aad8",
   "metadata": {},
   "outputs": [
    {
     "name": "stdout",
     "output_type": "stream",
     "text": [
      " - computing KDE in spherical coordinates\n"
     ]
    },
    {
     "data": {
      "text/plain": [
       "<matplotlib.contour.QuadContourSet at 0x172d5c700>"
      ]
     },
     "execution_count": 54,
     "metadata": {},
     "output_type": "execute_result"
    },
    {
     "data": {
      "image/png": "[encoded data removed]",
      "text/plain": [
       "<Figure size 504x720 with 1 Axes>"
      ]
     },
     "metadata": {
      "needs_background": "light"
     },
     "output_type": "display_data"
    }
   ],
   "source": [
    "i = 0\n",
    "\n",
    "\n",
    "# Plot map of South America with distributions of each species\n",
    "fig = plt.figure(figsize=(7, 10))\n",
    "# fig.subplots_adjust(left=0.05, right=0.95, wspace=0.05)\n",
    "\n",
    "# construct a kernel density estimate of the distribution\n",
    "print(\" - computing KDE in spherical coordinates\")\n",
    "kde = KernelDensity(\n",
    "    bandwidth=0.04, metric=\"haversine\", kernel=\"gaussian\", algorithm=\"ball_tree\"\n",
    ")\n",
    "kde.fit(Xtrain[ytrain == i])\n",
    "\n",
    "# evaluate only on the land: -9999 indicates ocean\n",
    "Z = np.full(land_mask.shape[0], -9999, dtype=\"int\")\n",
    "Z[land_mask] = np.exp(kde.score_samples(xy))\n",
    "Z = Z.reshape(X.shape)\n",
    "\n",
    "# plot contours of the density\n",
    "levels = np.linspace(0, Z.max(), 25)\n",
    "plt.contourf(X, Y, Z, levels=levels, cmap=plt.cm.Reds)\n"
   ]
  },
  {
   "cell_type": "code",
   "execution_count": 61,
   "id": "1e6572a4-ff8d-42ed-900d-bbf71a5e4881",
   "metadata": {},
   "outputs": [],
   "source": [
    "x = kde.score_samples(xy)"
   ]
  },
  {
   "cell_type": "code",
   "execution_count": 62,
   "id": "28294cbe-30dc-4c9c-a825-4597a0fc3164",
   "metadata": {},
   "outputs": [
    {
     "data": {
      "text/plain": [
       "array([ -12.55778545,  -12.81094804,  -13.59322834, ..., -123.01897066,\n",
       "       -122.49196503, -121.97121808])"
      ]
     },
     "execution_count": 62,
     "metadata": {},
     "output_type": "execute_result"
    }
   ],
   "source": [
    "x\n"
   ]
  },
  {
   "cell_type": "code",
   "execution_count": 63,
   "id": "88d1a2e8-974d-4c32-8acb-88e9e82dd9bb",
   "metadata": {},
   "outputs": [
    {
     "data": {
      "text/plain": [
       "(28008,)"
      ]
     },
     "execution_count": 63,
     "metadata": {},
     "output_type": "execute_result"
    }
   ],
   "source": [
    "x.shape"
   ]
  },
  {
   "cell_type": "code",
   "execution_count": 64,
   "id": "6662e3f9-f2e0-4516-825f-ea4af0e8d9cd",
   "metadata": {},
   "outputs": [
    {
     "data": {
      "text/plain": [
       "array([3.51741066e-06, 2.73071237e-06, 1.24892380e-06, ...,\n",
       "       3.74575935e-54, 6.34476455e-54, 1.06800439e-53])"
      ]
     },
     "execution_count": 64,
     "metadata": {},
     "output_type": "execute_result"
    }
   ],
   "source": [
    "np.exp(x)"
   ]
  },
  {
   "cell_type": "code",
   "execution_count": 67,
   "id": "228089fb-0e70-4764-b0f7-77863819e9d8",
   "metadata": {},
   "outputs": [
    {
     "data": {
      "text/plain": [
       "148.4131591025766"
      ]
     },
     "execution_count": 67,
     "metadata": {},
     "output_type": "execute_result"
    }
   ],
   "source": []
  },
  {
   "cell_type": "code",
   "execution_count": null,
   "id": "4b51758a-6f14-4494-b99f-f46c115da764",
   "metadata": {},
   "outputs": [],
   "source": []
  },
  {
   "cell_type": "markdown",
   "id": "c6a16e65-2a4f-41be-a346-88381c17a741",
   "metadata": {},
   "source": [
    "## population"
   ]
  },
  {
   "cell_type": "code",
   "execution_count": 1,
   "id": "d4b0953a-9ff1-4a4a-b03d-e5bb591678bd",
   "metadata": {},
   "outputs": [],
   "source": [
    "import rasterio\n",
    "import numpy as np\n",
    "\n",
    "from scipy import ndimage\n",
    "\n",
    "from rasterio.plot import show\n"
   ]
  },
  {
   "cell_type": "code",
   "execution_count": 2,
   "id": "aae51b1e-4d2b-48e7-950b-b9b1da7a58b9",
   "metadata": {},
   "outputs": [],
   "source": [
    "def arr_to_ascii(arr, r_ascii, xll=-180, yll=-90, cellsize=0.25, nodata=-9999):\n",
    "    \"\"\"\n",
    "    Convert a numpy array to an ASCII raster.\n",
    "    :@param arr:            2D array\n",
    "    :@param r_ascii:        Full path to outfile with extension\n",
    "    :@param xll:            Longitude coordinate for lower left corner\n",
    "    :@param yll:            Latitude coordinate for lower left corner\n",
    "    :@param cellsize:       Cell size in geographic degrees\n",
    "    :@param nodata:         Value representing NODATA\n",
    "    \"\"\"\n",
    "\n",
    "    # get number of rows and columns of array\n",
    "    nrows = arr.shape[0]\n",
    "    ncols = arr.shape[1]\n",
    "\n",
    "    # create ASCII raster file\n",
    "    with open(r_ascii, 'w') as rast:\n",
    "\n",
    "        # write header\n",
    "        rast.write('ncols {}\\n'.format(ncols))\n",
    "        rast.write('nrows {}\\n'.format(nrows))\n",
    "        rast.write('xllcorner {}\\n'.format(xll))\n",
    "        rast.write('yllcorner {}\\n'.format(yll))\n",
    "        rast.write('cellsize {}\\n'.format(cellsize))\n",
    "        rast.write('nodata_value {}\\n'.format(nodata))\n",
    "\n",
    "        # write array\n",
    "        np.savetxt(rast, arr, fmt='%.15g')\n"
   ]
  },
  {
   "cell_type": "code",
   "execution_count": 4,
   "id": "193417cd-d533-4b55-b208-f657d76f77ce",
   "metadata": {},
   "outputs": [],
   "source": [
    "pf = \"/Users/d3y010/projects/population/data/zoraghein-oneill_population_gravity_inputs_outputs/new_york/outputs/model/SSP5/new york_1km_SSP5_total_2100.tif\"\n",
    "\n",
    "f = \"/Users/d3y010/projects/cerf/data/suitability/site_original/population/SITE population 2005/out_grid.asc\"\n"
   ]
  },
  {
   "cell_type": "code",
   "execution_count": 13,
   "id": "5deba356-32f1-440f-8631-b65472a02bb6",
   "metadata": {},
   "outputs": [],
   "source": [
    "pf = \"/Users/d3y010/projects/population/data/zoraghein-oneill_population_gravity_inputs_outputs/new_york/outputs/model/SSP5/new york_1km_SSP5_total_2100.tif\"\n",
    "\n",
    "\n",
    "with rasterio.open(pf) as src:\n",
    "    \n",
    "    arr = src.read(1)\n",
    "    \n",
    "#     arr = np.where(arr == src.nodata, np.nan, arr)\n",
    "    \n",
    "    r_ascii = '/Users/d3y010/Desktop/ex_2100.asc'\n",
    "    \n",
    "    arr_to_ascii(arr, r_ascii, xll=src.bounds.left, yll=src.bounds.bottom, cellsize=1000, nodata=src.nodata)\n"
   ]
  },
  {
   "cell_type": "code",
   "execution_count": null,
   "id": "5d207dc8-812b-4599-aa9b-08be85c24a67",
   "metadata": {},
   "outputs": [],
   "source": []
  },
  {
   "cell_type": "code",
   "execution_count": 40,
   "id": "0338957d-aa47-4bbc-ad31-0fc5fa6b877b",
   "metadata": {},
   "outputs": [
    {
     "data": {
      "text/plain": [
       "(2762, 3145)"
      ]
     },
     "execution_count": 40,
     "metadata": {},
     "output_type": "execute_result"
    }
   ],
   "source": [
    "arr.shape"
   ]
  },
  {
   "cell_type": "code",
   "execution_count": 41,
   "id": "6ce6791e-97c7-44df-a3e7-3765fbec1450",
   "metadata": {},
   "outputs": [
    {
     "data": {
      "image/png": "[encoded data removed]",
      "text/plain": [
       "<Figure size 432x288 with 1 Axes>"
      ]
     },
     "metadata": {
      "needs_background": "light"
     },
     "output_type": "display_data"
    },
    {
     "data": {
      "text/plain": [
       "<AxesSubplot:>"
      ]
     },
     "execution_count": 41,
     "metadata": {},
     "output_type": "execute_result"
    }
   ],
   "source": [
    "show(arr)"
   ]
  },
  {
   "cell_type": "code",
   "execution_count": null,
   "id": "080a0a7f-f333-4a6d-8313-0267f3bfaa73",
   "metadata": {},
   "outputs": [],
   "source": [
    "window = np.ones(shape=(8, 8))\n"
   ]
  },
  {
   "cell_type": "code",
   "execution_count": null,
   "id": "57e20824-6895-4a32-b7aa-e16389f5c537",
   "metadata": {},
   "outputs": [],
   "source": [
    "workarr = np.nan_to_num(arr)\n"
   ]
  },
  {
   "cell_type": "code",
   "execution_count": 50,
   "id": "67abb927-1644-4a42-9be1-0e07e529578a",
   "metadata": {},
   "outputs": [],
   "source": [
    "def focal_density(x):\n",
    "\n",
    "    return np.nansum(x) / (8 * 8)\n"
   ]
  },
  {
   "cell_type": "code",
   "execution_count": null,
   "id": "9b990315-b818-4c6a-9310-7e44f9d79915",
   "metadata": {},
   "outputs": [
    {
     "name": "stderr",
     "output_type": "stream",
     "text": [
      "ERROR:root:Internal Python error in the inspect module.\n",
      "Below is the traceback from this internal error.\n",
      "\n",
      "ERROR:root:Internal Python error in the inspect module.\n",
      "Below is the traceback from this internal error.\n",
      "\n"
     ]
    }
   ],
   "source": [
    "arx = ndimage.generic_filter(arr, focal_density, footprint=window)\n"
   ]
  },
  {
   "cell_type": "code",
   "execution_count": 46,
   "id": "60f8c104-84fa-4809-bf13-dd78f212165e",
   "metadata": {},
   "outputs": [
    {
     "data": {
      "image/png": "[encoded data removed]",
      "text/plain": [
       "<Figure size 432x288 with 1 Axes>"
      ]
     },
     "metadata": {
      "needs_background": "light"
     },
     "output_type": "display_data"
    },
    {
     "data": {
      "text/plain": [
       "<AxesSubplot:>"
      ]
     },
     "execution_count": 46,
     "metadata": {},
     "output_type": "execute_result"
    }
   ],
   "source": [
    "show(arx)"
   ]
  },
  {
   "cell_type": "code",
   "execution_count": 48,
   "id": "187f5537-1e0b-4800-8a0d-bce35c41f0c1",
   "metadata": {},
   "outputs": [],
   "source": [
    "with rasterio.open(f) as src:\n",
    "    \n",
    "    metadata = src.meta\n",
    "\n",
    "    with rasterio.open('/Users/d3y010/Desktop/x.tif', 'w', **metadata) as out:\n",
    "        \n",
    "        out.write(arx, 1)\n",
    "    \n"
   ]
  },
  {
   "cell_type": "code",
   "execution_count": 32,
   "id": "a032c369-f58d-4a04-8fff-3307114f87b0",
   "metadata": {},
   "outputs": [
    {
     "data": {
      "text/plain": [
       "7312.0703"
      ]
     },
     "execution_count": 32,
     "metadata": {},
     "output_type": "execute_result"
    }
   ],
   "source": [
    "arx.max()"
   ]
  },
  {
   "cell_type": "code",
   "execution_count": 34,
   "id": "21d8a70d-0f01-458b-8ab0-d03c4bd997f4",
   "metadata": {},
   "outputs": [
    {
     "data": {
      "image/png": "[encoded data removed]",
      "text/plain": [
       "<Figure size 432x288 with 1 Axes>"
      ]
     },
     "metadata": {
      "needs_background": "light"
     },
     "output_type": "display_data"
    },
    {
     "data": {
      "text/plain": [
       "<AxesSubplot:>"
      ]
     },
     "execution_count": 34,
     "metadata": {},
     "output_type": "execute_result"
    }
   ],
   "source": [
    "arv = np.where(arx >= 400, 1, np.nan)\n",
    "\n",
    "show(arv)\n"
   ]
  },
  {
   "cell_type": "markdown",
   "id": "9515cb10-f02e-4242-9404-3369b74da20d",
   "metadata": {},
   "source": [
    "## Old way"
   ]
  },
  {
   "cell_type": "code",
   "execution_count": 57,
   "id": "9b16299d-2296-40de-b9c1-38518d59529e",
   "metadata": {},
   "outputs": [],
   "source": [
    "import os\n",
    "import glob\n",
    "import shutil\n",
    "import math\n",
    "import sys\n",
    "\n",
    "import rasterio\n",
    "import numpy as np\n",
    "\n",
    "from scipy import ndimage\n",
    "from rasterio.plot import show\n",
    "\n",
    "\n",
    "f = \"/Users/d3y010/projects/population/data/zoraghein-oneill_population_gravity_inputs_outputs/new_york/outputs/model/SSP5/new york_1km_SSP5_total_2100.tif\"\n",
    "\n",
    "r_ascii = '/Users/d3y010/Desktop/ex_2100.asc'\n",
    "\n",
    "scenario = 'ssp5'\n",
    "\n",
    "ascii_dir = \"/Users/d3y010/projects/cerf/suitability/data/raw/population\"\n",
    "\n",
    "nodata = -999\n"
   ]
  },
  {
   "cell_type": "markdown",
   "id": "1fc71459-9984-45ad-bf4d-ff6002edbbaa",
   "metadata": {},
   "source": [
    "#### Convert GeoTiff to ASC rasters"
   ]
  },
  {
   "cell_type": "code",
   "execution_count": 55,
   "id": "620b3be0-6a55-4c73-a6de-79297d8dce16",
   "metadata": {},
   "outputs": [
    {
     "name": "stdout",
     "output_type": "stream",
     "text": [
      "Processing:  2020\n",
      "Processing:  2025\n",
      "Processing:  2030\n",
      "Processing:  2035\n",
      "Processing:  2040\n",
      "Processing:  2045\n",
      "Processing:  2050\n",
      "Processing:  2055\n",
      "Processing:  2060\n",
      "Processing:  2065\n",
      "Processing:  2070\n",
      "Processing:  2075\n",
      "Processing:  2080\n",
      "Processing:  2085\n",
      "Processing:  2090\n",
      "Processing:  2095\n",
      "Processing:  2100\n"
     ]
    }
   ],
   "source": [
    "for yr in range(2020, 2100 + 5, 5):\n",
    "    \n",
    "    print(f\"Processing:  {yr}\")\n",
    "    \n",
    "    f = f\"/Users/d3y010/projects/population/data/mosaic/population_conus_total_{scenario}_{yr}_1km.tif\"\n",
    "    \n",
    "    r_ascii = os.path.join(ascii_dir, f\"population_conus_total_{scenario}_{yr}_1km.asc\")\n",
    "    \n",
    "    with rasterio.open(f) as src:\n",
    "\n",
    "        arr = src.read(1)\n",
    "\n",
    "        arr = np.where(arr == src.nodata, nodata, arr)\n",
    "\n",
    "        # round up to whole numbers\n",
    "        arr = np.around(arr, 0).astype(np.int)\n",
    "\n",
    "        arr_to_ascii(arr, r_ascii, xll=src.bounds.left, yll=src.bounds.bottom, cellsize=1000, nodata=nodata)\n",
    "\n"
   ]
  },
  {
   "cell_type": "code",
   "execution_count": 65,
   "id": "d508f2f9-5694-4ee4-86ae-e97d170b33e6",
   "metadata": {},
   "outputs": [],
   "source": [
    "def create_buffer(radius):  #radius given in #cells\n",
    "    \n",
    "    b = []\n",
    "    for i in range(radius+1):\n",
    "        \n",
    "        for j in range(radius+1):\n",
    "            \n",
    "            if math.sqrt(i**2 + j**2) <= radius:\n",
    "                \n",
    "                if i==0 and j==0:\n",
    "                    b.extend([(i,j)])\n",
    "                elif i==0:\n",
    "                    b.extend([(i,j),(i,-j)])\n",
    "                elif j==0:\n",
    "                    b.extend([(i,j),(-i,j)])\n",
    "                else:\n",
    "                    b.extend([(i,j),(-i,j),(i,-j),(-i,-j)])\n",
    "                    \n",
    "    return b\n",
    "\n",
    "\n",
    "def main(ascii_dir, out_dir, scenario, model='SITE', year=2100):\n",
    "    #----------inputs--------------\n",
    "#    input_raster = r\"C:\\Users\\schm156\\Documents\\iRESM population dataset\\files-from-Tim\\ascii\\2100.asc\"\n",
    "#     input_raster = r\"F:\\New_SITE_layers\\population\\EIC_pop_2005\\out_grid.asc\"\n",
    "#     out_dir = r\"F:\\New_SITE_layers\\population\"\n",
    "# #    model = 'WRF'\n",
    "#     model = 'SITE'\n",
    "    #----------inputs--------------\n",
    "    \n",
    "    input_raster = os.path.join(ascii_dir, f\"population_conus_total_{scenario}_{year}_1km.asc\")\n",
    "\n",
    "    if model == 'SITE':\n",
    "        buffer_relative = create_buffer(40)        #25 mile (40 km) buffer, SITE version\n",
    "        buffer_relative.reverse()                   #Look at biggest buffers first\n",
    "#        print 'Warning: buffer_relative has not yet been defined for SITE'\n",
    "    elif model == 'WRF':\n",
    "        buffer_relative = [(0,0),(1,0),(-1,0),(0,1),(0,-1),(2,0),(-2,0),(0,2),(0,-2),(1,1),(1,-1),(-1,1),(-1,-1)]        #WRF version\n",
    "\n",
    "    unbuffered_file = os.path.join(out_dir, f\"cerf_densely_populated_{scenario}_{year}.asc\")\n",
    "    buffered_file = os.path.join(out_dir, f\"cerf_densely_populated_{scenario}_{year}_buff25mi.asc\")\n",
    "    nuclear_file = os.path.join(out_dir, f\"cerf_densely_populated_{scenario}_{year}_nuclear.asc\")\n",
    "\n",
    "    headers = []\n",
    "    in_raster_data = []\n",
    "    unsuitable_cells = []\n",
    "    unsuitable_shapes = []\n",
    "    buffered_shapes = []\n",
    "\n",
    "    print('Loading input raster\\n')\n",
    "    inf = open(input_raster,'r')\n",
    "    currentline = inf.readline()\n",
    "\n",
    "    elif model == 'SITE':\n",
    "        nodata_val = '-999'\n",
    "\n",
    "    while currentline.split()[0] != nodata_val:\n",
    "        headers.append(currentline)\n",
    "        currentline = inf.readline()\n",
    "    while currentline:\n",
    "        in_raster_data.append([int(x) for x in currentline.split()])\n",
    "        currentline = inf.readline()\n",
    "    inf.close()\n",
    "\n",
    "#     print( 'Copying projection information\\n')\n",
    "#     for f in [unbuffered_file,buffered_file,nuclear_file]:\n",
    "#         shutil.copyfile(input_raster[:-3]+'prj',f[:-3]+'prj')\n",
    "\n",
    "    print( 'Producing unbuffered file\\n')\n",
    "    #produce unbuffered file\n",
    "    f = open(unbuffered_file,'w')\n",
    "    for line in headers:\n",
    "        f.write(line)\n",
    "        \n",
    "    for rowi in range(len(in_raster_data)):\n",
    "        for columni in range(len(in_raster_data[rowi])):\n",
    "            cell = in_raster_data[rowi][columni]\n",
    "            if model == 'SITE':\n",
    "                threshold = 772\n",
    "                \n",
    "            if cell > threshold:\n",
    "                f.write('1 ')\n",
    "                unsuitable_cells.append((rowi,columni))\n",
    "                \n",
    "            elif cell == -9999:\n",
    "                f.write('1 ')\n",
    "            else:\n",
    "                f.write('0 ')\n",
    "        f.write('\\n')\n",
    "    f.close()\n",
    "\n",
    "    print( 'Producing buffered file\\n')\n",
    "    print( '...identifying unsuitable blocks')\n",
    "    if model == 'SITE':\n",
    "        threshold = 64.75\n",
    "\n",
    "    while len(unsuitable_cells) > 0:\n",
    "        start_cell = unsuitable_cells.pop()\n",
    "        to_check = [start_cell]\n",
    "        this_shape = [start_cell]\n",
    "        \n",
    "        while len(to_check) > 0:\n",
    "            cell = to_check.pop()\n",
    "            if (cell[0],cell[1]-1) in unsuitable_cells:\n",
    "                to_check.append((cell[0],cell[1]-1))\n",
    "                this_shape.append((cell[0],cell[1]-1))\n",
    "                unsuitable_cells.remove((cell[0],cell[1]-1))\n",
    "            if (cell[0],cell[1]+1) in unsuitable_cells:\n",
    "                to_check.append((cell[0],cell[1]+1))\n",
    "                this_shape.append((cell[0],cell[1]+1))\n",
    "                unsuitable_cells.remove((cell[0],cell[1]+1))\n",
    "            if (cell[0]-1,cell[1]) in unsuitable_cells:\n",
    "                to_check.append((cell[0]-1,cell[1]))\n",
    "                this_shape.append((cell[0]-1,cell[1]))\n",
    "                unsuitable_cells.remove((cell[0]-1,cell[1]))\n",
    "            if (cell[0]+1,cell[1]) in unsuitable_cells:\n",
    "                to_check.append((cell[0]+1,cell[1]))\n",
    "                this_shape.append((cell[0]+1,cell[1]))\n",
    "                unsuitable_cells.remove((cell[0]+1,cell[1]))\n",
    "                \n",
    "        if len(this_shape) > threshold:\n",
    "            unsuitable_shapes.extend(this_shape)\n",
    "            \n",
    "    unsuitable_cells = this_shape = None     #free up memory\n",
    "\n",
    "    print( '...buffering')\n",
    "    buffered_shapes = set(buffered_shapes)\n",
    "    \n",
    "    for cell in unsuitable_shapes:\n",
    "        \n",
    "        for offset in buffer_relative:\n",
    "            \n",
    "            try:\n",
    "                buffered_shapes.add((cell[0]+offset[0], cell[1]+offset[1]))\n",
    "            except MemoryError:\n",
    "                print( 'MemoryError: line 121.\\n\\t len(buffered_shapes) =', len(buffered_shapes))\n",
    "                print( 'len(in_raster_data) =', len(in_raster_data))\n",
    "                sys.exit(2)\n",
    "                \n",
    "#            buffered_shapes.append((cell[0]+offset[0],cell[1]+offset[1]))\n",
    "#    buffered_shapes = set(buffered_shapes)\n",
    "\n",
    "    print( '...printing result\\n')\n",
    "    f = open(buffered_file,'w')\n",
    "    for line in headers:\n",
    "        f.write(line)\n",
    "    for rowi in range(len(in_raster_data)):\n",
    "        for columni in range(len(in_raster_data[rowi])):\n",
    "            if (rowi,columni) in buffered_shapes:\n",
    "                f.write('1 ')\n",
    "            elif in_raster_data[rowi][columni] == -9999:\n",
    "                f.write('1 ')\n",
    "            else:\n",
    "                f.write('0 ')\n",
    "        f.write('\\n')\n",
    "    f.close()\n",
    "    \n",
    "    unsuitable_shapes = buffered_shapes = None    #free up more memory\n",
    "\n",
    "    print( 'Producing nuclear file\\n')\n",
    "    if model == 'SITE':\n",
    "        buffer_relative=[]\n",
    "#        print 'Warning: buffer_relative has not yet been defined for SITE'\n",
    "        for i in range(40+1):\n",
    "            buffer_relative.append(create_buffer(i))\n",
    "        cell_area = 1\n",
    "        \n",
    "    nrows = len(in_raster_data)\n",
    "    ncolumns = len(in_raster_data[0])\n",
    "    \n",
    "    f = open(nuclear_file,'w')\n",
    "    for line in headers:\n",
    "        f.write(line)\n",
    "    for rowi in range(nrows):\n",
    "\n",
    "        for columni in range(ncolumns):\n",
    "            suitable = True\n",
    "            break_flag = False\n",
    "#             if columni % 1000 == 0:\n",
    "#                 print( rowi, columni)\n",
    "\n",
    "            for radius in buffer_relative:\n",
    "                if not break_flag:\n",
    "                    totalpop = 0\n",
    "                    totalarea = 0\n",
    "\n",
    "                    for offset in radius:\n",
    "                        new_row = rowi + offset[0]\n",
    "                        new_column = columni + offset[1]\n",
    "                        if new_row >= 0 and new_row < nrows and new_column >= 0 and new_column < ncolumns and \\\n",
    "                           in_raster_data[new_row][new_column] != -9999:\n",
    "                            totalpop += in_raster_data[new_row][new_column]\n",
    "                            totalarea += cell_area\n",
    "\n",
    "                    if totalarea != 0:\n",
    "                        density = float(totalpop)/totalarea\n",
    "                        if density > 193:\n",
    "                            suitable = False\n",
    "                            break_flag = True\n",
    "                        elif density < 30:\n",
    "                            break_flag = True\n",
    "                    else:\n",
    "                        suitable = False\n",
    "                        break_flag = True\n",
    "            if suitable:\n",
    "                f.write('0 ')\n",
    "            else:\n",
    "                f.write('1 ')\n",
    "        f.write('\\n')\n",
    "    f.close()\n",
    "\n",
    "\n",
    "    print( 'Done')"
   ]
  },
  {
   "cell_type": "code",
   "execution_count": 68,
   "id": "c6c334ee-8bca-4f16-b503-b2eb90d5b143",
   "metadata": {},
   "outputs": [],
   "source": [
    "from joblib import Parallel, delayed\n",
    "\n",
    "\n",
    "out_dir = '/Users/d3y010/projects/cerf/suitability/data/technology_specific'\n",
    "scenarios = ['ssp2', 'ssp3', 'ssp5']\n",
    "\n",
    "\n",
    "for scenario in scenarios:\n",
    "    res = Parallel(n_jobs=-1)(delayed(main)(ascii_dir, out_dir, scenario, year=yr) for yr in range(2020, 2100 + 5, 5))\n",
    "\n"
   ]
  },
  {
   "cell_type": "markdown",
   "id": "6902628f-8ef1-49d7-968e-88a0ce1402a7",
   "metadata": {},
   "source": [
    "## Convert rasters to the GRIDCERF format"
   ]
  },
  {
   "cell_type": "code",
   "execution_count": 15,
   "id": "5892f9f6-90f0-4731-b14a-baf8d038092a",
   "metadata": {},
   "outputs": [],
   "source": [
    "import os\n",
    "import glob\n",
    "import json\n",
    "\n",
    "import rasterio\n",
    "import numpy as np\n",
    "import pandas as pd\n",
    "import geopandas as gpd\n",
    "\n",
    "from rasterio.mask import mask\n",
    "from shapely.geometry import box\n"
   ]
  },
  {
   "cell_type": "code",
   "execution_count": 24,
   "id": "c48f0218-6c14-4e91-ade7-1b9a5bc7e013",
   "metadata": {},
   "outputs": [],
   "source": [
    "tech_dir = '/Users/d3y010/projects/cerf/suitability/data/technology_specific'\n",
    "\n",
    "scenarios = ['ssp2', 'ssp3', 'ssp5']\n",
    "\n"
   ]
  },
  {
   "cell_type": "code",
   "execution_count": 26,
   "id": "f4d3efff-b745-4cb9-af4d-34216f5d8033",
   "metadata": {},
   "outputs": [
    {
     "name": "stdout",
     "output_type": "stream",
     "text": [
      "Processing ssp2 for 2020...\n",
      "Processing ssp2 for 2025...\n",
      "Processing ssp2 for 2030...\n",
      "Processing ssp2 for 2035...\n",
      "Processing ssp2 for 2040...\n",
      "Processing ssp2 for 2045...\n",
      "Processing ssp2 for 2050...\n",
      "Processing ssp2 for 2055...\n",
      "Processing ssp2 for 2060...\n",
      "Processing ssp2 for 2065...\n",
      "Processing ssp2 for 2070...\n",
      "Processing ssp2 for 2075...\n",
      "Processing ssp2 for 2080...\n",
      "Processing ssp2 for 2085...\n",
      "Processing ssp2 for 2090...\n",
      "Processing ssp2 for 2095...\n",
      "Processing ssp2 for 2100...\n",
      "Processing ssp3 for 2020...\n",
      "Processing ssp3 for 2025...\n",
      "Processing ssp3 for 2030...\n",
      "Processing ssp3 for 2035...\n",
      "Processing ssp3 for 2040...\n",
      "Processing ssp3 for 2045...\n",
      "Processing ssp3 for 2050...\n",
      "Processing ssp3 for 2055...\n",
      "Processing ssp3 for 2060...\n",
      "Processing ssp3 for 2065...\n",
      "Processing ssp3 for 2070...\n",
      "Processing ssp3 for 2075...\n",
      "Processing ssp3 for 2080...\n",
      "Processing ssp3 for 2085...\n",
      "Processing ssp3 for 2090...\n",
      "Processing ssp3 for 2095...\n",
      "Processing ssp3 for 2100...\n",
      "Processing ssp5 for 2020...\n",
      "Processing ssp5 for 2025...\n",
      "Processing ssp5 for 2030...\n",
      "Processing ssp5 for 2035...\n",
      "Processing ssp5 for 2040...\n",
      "Processing ssp5 for 2045...\n",
      "Processing ssp5 for 2050...\n",
      "Processing ssp5 for 2055...\n",
      "Processing ssp5 for 2060...\n",
      "Processing ssp5 for 2065...\n",
      "Processing ssp5 for 2070...\n",
      "Processing ssp5 for 2075...\n",
      "Processing ssp5 for 2080...\n",
      "Processing ssp5 for 2085...\n",
      "Processing ssp5 for 2090...\n",
      "Processing ssp5 for 2095...\n",
      "Processing ssp5 for 2100...\n"
     ]
    }
   ],
   "source": [
    "for scenario in scenarios:\n",
    "\n",
    "    for yr in range(2020, 2105, 5):\n",
    "\n",
    "        print(f\"Processing {scenario} for {yr}...\")\n",
    "\n",
    "        in_file_standard = os.path.join(tech_dir, f\"cerf_densely_populated_{scenario}_{yr}.asc\")\n",
    "        out_file_standard = os.path.join(tech_dir, f\"cerf_densely_populated_{scenario}_{yr}.tif\")\n",
    "        \n",
    "        in_file_buffered = os.path.join(tech_dir, f\"cerf_densely_populated_{scenario}_{yr}_buff25mi.asc\")\n",
    "        out_file_buffered = os.path.join(tech_dir, f\"cerf_densely_populated_{scenario}_{yr}_buff25mi.tif\")\n",
    "        \n",
    "        in_file_nuclear = os.path.join(tech_dir, f\"cerf_densely_populated_{scenario}_{yr}_nuclear.asc\")\n",
    "        out_file_nuclear = os.path.join(tech_dir, f\"cerf_densely_populated_{scenario}_{yr}_nuclear.tif\")\n",
    "\n",
    "        gdal_cmd_standard = f\"gdal_translate -projwin -2405552.8355 1609934.7995 2287447.1645 -1389065.2005 -ot Int16 -of GTiff {in_file_standard} {out_file_standard}\"\n",
    "        gdal_cmd_buffered = f\"gdal_translate -projwin -2405552.8355 1609934.7995 2287447.1645 -1389065.2005 -ot Int16 -of GTiff {in_file_buffered} {out_file_buffered}\"\n",
    "        gdal_cmd_nuclear = f\"gdal_translate -projwin -2405552.8355 1609934.7995 2287447.1645 -1389065.2005 -ot Int16 -of GTiff {in_file_nuclear} {out_file_nuclear}\"\n",
    "\n",
    "        os.system(gdal_cmd_standard)\n",
    "        os.system(gdal_cmd_buffered)\n",
    "        os.system(gdal_cmd_nuclear)\n"
   ]
  },
  {
   "cell_type": "code",
   "execution_count": null,
   "id": "f2736b14-c848-4598-8b52-657049f789e7",
   "metadata": {},
   "outputs": [],
   "source": []
  }
 ],
 "metadata": {
  "kernelspec": {
   "display_name": "py3.9.4_ml",
   "language": "python",
   "name": "py3.9.4_ml"
  },
  "language_info": {
   "codemirror_mode": {
    "name": "ipython",
    "version": 3
   },
   "file_extension": ".py",
   "mimetype": "text/x-python",
   "name": "python",
   "nbconvert_exporter": "python",
   "pygments_lexer": "ipython3",
   "version": "3.9.4"
  }
 },
 "nbformat": 4,
 "nbformat_minor": 5
}
