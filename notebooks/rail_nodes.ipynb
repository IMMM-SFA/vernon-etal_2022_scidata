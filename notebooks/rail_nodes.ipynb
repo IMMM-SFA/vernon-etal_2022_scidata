{
 "cells": [
  {
   "cell_type": "markdown",
   "id": "7248b350-ba0e-4afd-ba56-826052036eaa",
   "metadata": {},
   "source": [
    "## North American Rail Nodes\n",
    "\n",
    "The rail nodes dataset supports the topology of the North American Rail Network (NARN) and attributes information for use in network analysis applications.\n",
    "\n",
    "Retrieved from https://data-usdot.opendata.arcgis.com/datasets/north-american-rail-nodes/explore?location=37.316236%2C-108.315150%2C4.21 \n",
    "\n",
    "Retrieved on:  Jan 6, 2022\n",
    "\n",
    "NTAD datasets are intended for public usage and are not for sale/resale.\n",
    "\n",
    "See full metadata:  https://data-usdot.opendata.arcgis.com/datasets/usdot::north-american-rail-nodes/about\n"
   ]
  },
  {
   "cell_type": "code",
   "execution_count": 1,
   "id": "946ade01-6a7f-4873-93d1-78df2712f828",
   "metadata": {},
   "outputs": [],
   "source": [
    "import os\n",
    "\n",
    "import rasterio\n",
    "import numpy as np\n"
   ]
  },
  {
   "cell_type": "code",
   "execution_count": 13,
   "id": "6ce75b21-2eba-416c-8a46-98d4826679e4",
   "metadata": {},
   "outputs": [],
   "source": [
    "data_dir = '/Users/d3y010/projects/cerf/suitability/data'\n",
    "\n",
    "nodes_shp = os.path.join(data_dir, 'raw', 'North_American_Rail_Nodes', 'North_American_Rail_Nodes.shp')\n",
    "\n",
    "buffered_shp = os.path.join(data_dir, 'raw', 'North_American_Rail_Nodes', 'North_American_Rail_Nodes_albers_buff5km.shp')\n",
    "\n",
    "template_raster = os.path.join(data_dir, 'reference', 'cerf_landmask_0-land.tif')\n",
    "\n",
    "output_temp_raster = os.path.join(data_dir, 'raw', 'North_American_Rail_Nodes','cerf_ntad_railnodes_greaterthan5km_prep.tif')\n",
    "\n",
    "output_final_raster = os.path.join(data_dir, 'raw', 'North_American_Rail_Nodes','cerf_ntad_railnodes_greaterthan5km.tif')\n"
   ]
  },
  {
   "cell_type": "markdown",
   "id": "7f525ac0-3673-4c9f-8602-7c1547b1121a",
   "metadata": {},
   "source": [
    "### In QGIS\n",
    "\n",
    "1. Reproject to Albers\n",
    "2. buffer by 5km and dissolve\n",
    "3. rasterize using the following"
   ]
  },
  {
   "cell_type": "code",
   "execution_count": 14,
   "id": "f4240261-7346-424b-a743-b55194fa154b",
   "metadata": {},
   "outputs": [
    {
     "data": {
      "text/plain": [
       "0"
      ]
     },
     "execution_count": 14,
     "metadata": {},
     "output_type": "execute_result"
    }
   ],
   "source": [
    "# then run this command\n",
    "gdal_cmd = f'gdal_rasterize -l North_American_Rail_Nodes_albers_buff5km -a BNDRY -tr 1000.0 1000.0 -init 1.0 -te -2405552.8355 -1389065.2005 2287447.1645 1609934.7995 -ot Int16 -of GTiff {buffered_shp} {output_temp_raster}'\n",
    "\n",
    "os.system(gdal_cmd)\n"
   ]
  },
  {
   "cell_type": "code",
   "execution_count": 15,
   "id": "d059b129-e598-49a1-b4f3-4190ea2e1478",
   "metadata": {},
   "outputs": [],
   "source": [
    "with rasterio.open(template_raster) as template:\n",
    "  \n",
    "    metadata = template.meta\n",
    "    \n",
    "    arr_template = template.read(1)\n",
    "    \n",
    "    with rasterio.open(output_temp_raster) as opt:\n",
    "        \n",
    "        arr = opt.read(1)\n",
    "        \n",
    "        arr += arr_template\n",
    "        \n",
    "        arr = np.where(arr > 1, 1, arr)\n",
    "\n",
    "        with rasterio.open(output_final_raster, 'w', **metadata) as dest:\n",
    "            dest.write(arr, 1)\n"
   ]
  },
  {
   "cell_type": "code",
   "execution_count": null,
   "id": "4aac2fea-0247-417d-85b8-e95bde016faf",
   "metadata": {},
   "outputs": [],
   "source": []
  }
 ],
 "metadata": {
  "kernelspec": {
   "display_name": "py3.9.4_cerf",
   "language": "python",
   "name": "py3.9.4_cerf"
  },
  "language_info": {
   "codemirror_mode": {
    "name": "ipython",
    "version": 3
   },
   "file_extension": ".py",
   "mimetype": "text/x-python",
   "name": "python",
   "nbconvert_exporter": "python",
   "pygments_lexer": "ipython3",
   "version": "3.9.4"
  }
 },
 "nbformat": 4,
 "nbformat_minor": 5
}
